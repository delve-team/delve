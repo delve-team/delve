{
  "cells": [
    {
      "cell_type": "code",
      "execution_count": null,
      "metadata": {
        "collapsed": false
      },
      "outputs": [],
      "source": [
        "%matplotlib inline"
      ]
    },
    {
      "cell_type": "markdown",
      "metadata": {},
      "source": [
        "\n# Extract layer saturation\nExtract layer saturation with Delve.\n"
      ]
    },
    {
      "cell_type": "code",
      "execution_count": null,
      "metadata": {
        "collapsed": false
      },
      "outputs": [],
      "source": [
        "from os import mkdir\nfrom os.path import exists\n\nimport torch\nfrom tqdm import trange\n\nfrom delve import CheckLayerSat\n\n\nclass TwoLayerNet(torch.nn.Module):\n    def __init__(self, D_in, H, D_out):\n        super(TwoLayerNet, self).__init__()\n        self.linear1 = torch.nn.Linear(D_in, H)\n        self.linear2 = torch.nn.Linear(H, D_out)\n\n    def forward(self, x):\n        h_relu = self.linear1(x).clamp(min=0)\n        y_pred = self.linear2(h_relu)\n        return y_pred\n\nif not exists(\"regression/\"):\n    mkdir(\"regression/\")\ndevice = torch.device(\"cuda:0\" if torch.cuda.is_available() else \"cpu\")\ntorch.manual_seed(1)\n\nfor h in [3, 32]:\n    # N is batch size; D_in is input dimension;\n    # H is hidden dimension; D_out is output dimension.\n    N, D_in, H, D_out = 64, 1000, h, 10\n\n    # Create random Tensors to hold inputs and outputs\n    x = torch.randn(N, D_in)\n    y = torch.randn(N, D_out)\n\n    model = TwoLayerNet(D_in, H, D_out)\n\n    x, y, model = x.to(device), y.to(device), model.to(device)\n\n    layers = [model.linear1, model.linear2]\n    stats = CheckLayerSat('regression/h{}'.format(h), save_to=\"plotcsv\", modules=layers, device=device, stats=[\"lsat\", \"lsat_eval\"])\n\n    loss_fn = torch.nn.MSELoss(reduction='sum')\n    optimizer = torch.optim.SGD(model.parameters(), lr=1e-4, momentum=0.9)\n    steps_iter = trange(2000, desc='steps', leave=True, position=0)\n    steps_iter.write(\"{:^80}\".format(\n        \"Regression - TwoLayerNet - Hidden layer size {}\".format(h)))\n    for _ in steps_iter:\n        y_pred = model(x)\n        loss = loss_fn(y_pred, y)\n        steps_iter.set_description('loss=%g' % loss.data)\n        optimizer.zero_grad()\n        loss.backward()\n        optimizer.step()\n\n        stats.add_saturations()\n    steps_iter.write('\\n')\n    stats.close()\n    steps_iter.close()"
      ]
    }
  ],
  "metadata": {
    "kernelspec": {
      "display_name": "Python 3",
      "language": "python",
      "name": "python3"
    },
    "language_info": {
      "codemirror_mode": {
        "name": "ipython",
        "version": 3
      },
      "file_extension": ".py",
      "mimetype": "text/x-python",
      "name": "python",
      "nbconvert_exporter": "python",
      "pygments_lexer": "ipython3",
      "version": "3.8.5"
    }
  },
  "nbformat": 4,
  "nbformat_minor": 0
}
